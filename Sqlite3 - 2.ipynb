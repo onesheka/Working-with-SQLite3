{
 "cells": [
  {
   "cell_type": "markdown",
   "metadata": {},
   "source": [
    "# PREDICTING THE FUTURE POPULATION"
   ]
  },
  {
   "cell_type": "code",
   "execution_count": 1,
   "metadata": {},
   "outputs": [],
   "source": [
    "import sqlite3"
   ]
  },
  {
   "cell_type": "code",
   "execution_count": 2,
   "metadata": {},
   "outputs": [],
   "source": [
    "conn = sqlite3.connect(\"factbook.db\")"
   ]
  },
  {
   "cell_type": "code",
   "execution_count": 3,
   "metadata": {},
   "outputs": [],
   "source": [
    "c = conn.cursor()"
   ]
  },
  {
   "cell_type": "code",
   "execution_count": 4,
   "metadata": {},
   "outputs": [
    {
     "data": {
      "text/plain": [
       "<sqlite3.Cursor at 0x1d78942e7a0>"
      ]
     },
     "execution_count": 4,
     "metadata": {},
     "output_type": "execute_result"
    }
   ],
   "source": [
    "c.execute(\"SELECT * FROM facts;\")"
   ]
  },
  {
   "cell_type": "code",
   "execution_count": 5,
   "metadata": {},
   "outputs": [],
   "source": [
    "facts = c.fetchall()"
   ]
  },
  {
   "cell_type": "code",
   "execution_count": 7,
   "metadata": {},
   "outputs": [
    {
     "name": "stdout",
     "output_type": "stream",
     "text": [
      "261\n"
     ]
    }
   ],
   "source": [
    "facts_count = len(facts)\n",
    "print(facts_count)"
   ]
  },
  {
   "cell_type": "markdown",
   "metadata": {},
   "source": [
    "### Mean in SQL for Population, Population Growth, Birth Rate, Death Rate"
   ]
  },
  {
   "cell_type": "code",
   "execution_count": 8,
   "metadata": {},
   "outputs": [
    {
     "name": "stdout",
     "output_type": "stream",
     "text": [
      "62094928.32231405\n",
      "---------\n",
      "1.2009745762711865\n",
      "---------\n",
      "19.32855263157894\n",
      "---------\n",
      "7.8212719298245625\n",
      "---------\n"
     ]
    }
   ],
   "source": [
    "res_tuple = conn.execute(\"SELECT avg(population),avg(population_growth),avg(birth_rate),avg(death_rate) FROM facts;\").fetchall()\n",
    "pop_avg = res_tuple[0][0]\n",
    "print(pop_avg)\n",
    "print(\"---------\")\n",
    "pop_growth_avg = res_tuple[0][1]\n",
    "print(pop_growth_avg)\n",
    "print(\"---------\")\n",
    "birth_rate_avg = res_tuple[0][2]\n",
    "print(birth_rate_avg)\n",
    "print(\"---------\")\n",
    "death_rate_avg = res_tuple[0][3]\n",
    "print(death_rate_avg)\n",
    "print(\"---------\")"
   ]
  },
  {
   "cell_type": "markdown",
   "metadata": {},
   "source": [
    "### Calculating the ranges"
   ]
  },
  {
   "cell_type": "code",
   "execution_count": 9,
   "metadata": {},
   "outputs": [
    {
     "name": "stdout",
     "output_type": "stream",
     "text": [
      "0\n",
      "7256490011\n",
      "0.0\n",
      "4.02\n",
      "6.65\n",
      "45.45\n",
      "1.53\n",
      "14.89\n"
     ]
    }
   ],
   "source": [
    "averages = \"select avg(population), avg(population_growth), avg(birth_rate), avg(death_rate), avg(migration_rate) from facts;\"\n",
    "avg_results = conn.execute(averages).fetchall()\n",
    "pop_avg = avg_results[0][0]\n",
    "pop_growth_avg = avg_results[0][1]\n",
    "birth_rate_avg = avg_results[0][2]\n",
    "death_rate_avg = avg_results[0][3]\n",
    "mig_rate_avg = avg_results[0][4]\n",
    "\n",
    "ranges = \"select min(population),max(population), min(population_growth),max(population_growth), min(birth_rate),max(birth_rate), min(death_rate), max(death_rate) from facts;\"\n",
    "ranges_results = conn.execute(ranges).fetchall()\n",
    "\n",
    "pop_min = ranges_results[0][0]\n",
    "pop_max = ranges_results[0][1]\n",
    "pop_growth_min = ranges_results[0][2]\n",
    "pop_growth_max = ranges_results[0][3]\n",
    "birth_rate_min = ranges_results[0][4]\n",
    "birth_rate_max = ranges_results[0][5]\n",
    "death_rate_min = ranges_results[0][6]\n",
    "death_rate_max = ranges_results[0][7]\n",
    "\n",
    "print(pop_min)\n",
    "print(pop_max)\n",
    "print(pop_growth_min)\n",
    "print(pop_growth_max)\n",
    "print(birth_rate_min)\n",
    "print(birth_rate_max)\n",
    "print(death_rate_min)\n",
    "print(death_rate_max)"
   ]
  },
  {
   "cell_type": "markdown",
   "metadata": {},
   "source": [
    "### Filtering the datasets as no country as min 0 population and China doesn't have more than 7 billion population. "
   ]
  },
  {
   "cell_type": "code",
   "execution_count": 10,
   "metadata": {},
   "outputs": [
    {
     "name": "stdout",
     "output_type": "stream",
     "text": [
      "48\n",
      "1367485388\n",
      "0.0\n",
      "4.02\n",
      "6.65\n",
      "45.45\n",
      "1.53\n",
      "14.89\n"
     ]
    }
   ],
   "source": [
    "ranges = \"select min(population),max(population), min(population_growth),max(population_growth), min(birth_rate),max(birth_rate), min(death_rate), max(death_rate) from facts where population < 2000000000 and population > 0;\"\n",
    "ranges_results = conn.execute(ranges).fetchall()\n",
    "\n",
    "pop_min = ranges_results[0][0]\n",
    "pop_max = ranges_results[0][1]\n",
    "pop_growth_min = ranges_results[0][2]\n",
    "pop_growth_max = ranges_results[0][3]\n",
    "birth_rate_min = ranges_results[0][4]\n",
    "birth_rate_max = ranges_results[0][5]\n",
    "death_rate_min = ranges_results[0][6]\n",
    "death_rate_max = ranges_results[0][7]\n",
    "\n",
    "print(pop_min)\n",
    "print(pop_max)\n",
    "print(pop_growth_min)\n",
    "print(pop_growth_max)\n",
    "print(birth_rate_min)\n",
    "print(birth_rate_max)\n",
    "print(death_rate_min)\n",
    "print(death_rate_max)"
   ]
  },
  {
   "cell_type": "markdown",
   "metadata": {},
   "source": [
    "### Predicting Future Population Growth"
   ]
  },
  {
   "cell_type": "code",
   "execution_count": 11,
   "metadata": {},
   "outputs": [],
   "source": [
    "projection = \"select round(population + (population * (population_growth/100)),0) as projected_population from facts where population is not null and population_growth is not null and population < 7000000000 and population > 0\"\n",
    "projected_population = conn.execute(projection).fetchall()"
   ]
  },
  {
   "cell_type": "code",
   "execution_count": 13,
   "metadata": {},
   "outputs": [
    {
     "name": "stdout",
     "output_type": "stream",
     "text": [
      "48.0\n",
      "1373639072.0\n",
      "33405469.0\n"
     ]
    }
   ],
   "source": [
    "projection = \"select round(min(projected_population),0),round(max(projected_population),0),round(avg(projected_population),0) from (select round(population + (population * (population_growth/100)),0) as projected_population from facts where population is not null and population_growth is not null and population < 7000000000 and population > 0)\"\n",
    "projected_population = conn.execute(projection).fetchall()\n",
    "\n",
    "pop_proj_min = projected_population[0][0]\n",
    "pop_proj_max = projected_population[0][1]\n",
    "pop_proj_avg = projected_population[0][2]\n",
    "\n",
    "print(pop_proj_min)\n",
    "print(pop_proj_max)\n",
    "print(pop_proj_avg)\n",
    "\n"
   ]
  },
  {
   "cell_type": "code",
   "execution_count": null,
   "metadata": {},
   "outputs": [],
   "source": []
  }
 ],
 "metadata": {
  "kernelspec": {
   "display_name": "Python 3",
   "language": "python",
   "name": "python3"
  },
  "language_info": {
   "codemirror_mode": {
    "name": "ipython",
    "version": 3
   },
   "file_extension": ".py",
   "mimetype": "text/x-python",
   "name": "python",
   "nbconvert_exporter": "python",
   "pygments_lexer": "ipython3",
   "version": "3.6.5"
  }
 },
 "nbformat": 4,
 "nbformat_minor": 2
}
