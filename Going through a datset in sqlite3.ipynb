{
 "cells": [
  {
   "cell_type": "code",
   "execution_count": 1,
   "metadata": {},
   "outputs": [],
   "source": [
    "import sqlite3"
   ]
  },
  {
   "cell_type": "code",
   "execution_count": 2,
   "metadata": {},
   "outputs": [],
   "source": [
    "conn = sqlite3.connect(\"Factbook.db\")"
   ]
  },
  {
   "cell_type": "code",
   "execution_count": 3,
   "metadata": {},
   "outputs": [],
   "source": [
    "import pandas as pd"
   ]
  },
  {
   "cell_type": "code",
   "execution_count": 5,
   "metadata": {},
   "outputs": [
    {
     "name": "stdout",
     "output_type": "stream",
     "text": [
      "<class 'pandas.core.frame.DataFrame'>\n",
      "RangeIndex: 261 entries, 0 to 260\n",
      "Data columns (total 13 columns):\n",
      "id                   261 non-null int64\n",
      "code                 261 non-null object\n",
      "name                 261 non-null object\n",
      "area                 249 non-null float64\n",
      "area_land            246 non-null float64\n",
      "area_water           243 non-null float64\n",
      "population           242 non-null float64\n",
      "population_growth    236 non-null float64\n",
      "birth_rate           228 non-null float64\n",
      "death_rate           228 non-null float64\n",
      "migration_rate       223 non-null float64\n",
      "created_at           261 non-null object\n",
      "updated_at           261 non-null object\n",
      "dtypes: float64(8), int64(1), object(4)\n",
      "memory usage: 26.6+ KB\n",
      "None\n"
     ]
    }
   ],
   "source": [
    "facts = pd.read_sql_query(\"select * from facts\",conn)\n",
    "print(facts.info())"
   ]
  },
  {
   "cell_type": "code",
   "execution_count": 7,
   "metadata": {},
   "outputs": [
    {
     "name": "stdout",
     "output_type": "stream",
     "text": [
      "<class 'pandas.core.frame.DataFrame'>\n",
      "Int64Index: 215 entries, 0 to 253\n",
      "Data columns (total 13 columns):\n",
      "id                   215 non-null int64\n",
      "code                 215 non-null object\n",
      "name                 215 non-null object\n",
      "area                 215 non-null float64\n",
      "area_land            215 non-null float64\n",
      "area_water           215 non-null float64\n",
      "population           215 non-null float64\n",
      "population_growth    215 non-null float64\n",
      "birth_rate           215 non-null float64\n",
      "death_rate           215 non-null float64\n",
      "migration_rate       215 non-null float64\n",
      "created_at           215 non-null object\n",
      "updated_at           215 non-null object\n",
      "dtypes: float64(8), int64(1), object(4)\n",
      "memory usage: 23.5+ KB\n",
      "None\n"
     ]
    }
   ],
   "source": [
    "facts = facts.dropna(axis=0)\n",
    "print(facts.info())"
   ]
  },
  {
   "cell_type": "markdown",
   "metadata": {},
   "source": [
    "### Computing Projected Population"
   ]
  },
  {
   "cell_type": "code",
   "execution_count": 8,
   "metadata": {},
   "outputs": [],
   "source": [
    "import math\n",
    "def estimpop(df):\n",
    "    estpop = df[\"population\"]*(math.e**((df[\"population_growth\"]/100)*35))\n",
    "    return round(estpop,0)"
   ]
  },
  {
   "cell_type": "code",
   "execution_count": 9,
   "metadata": {},
   "outputs": [
    {
     "name": "stdout",
     "output_type": "stream",
     "text": [
      "                                  name  estimated_pop    population\n",
      "76                               India   1.918415e+09  1.251696e+09\n",
      "36                               China   1.600752e+09  1.367485e+09\n",
      "128                            Nigeria   4.279890e+08  1.815621e+08\n",
      "185                      United States   4.222466e+08  3.213689e+08\n",
      "77                           Indonesia   3.532418e+08  2.559937e+08\n",
      "131                           Pakistan   3.318676e+08  1.990858e+08\n",
      "13                          Bangladesh   2.957897e+08  1.689577e+08\n",
      "23                              Brazil   2.674393e+08  2.042598e+08\n",
      "39   Congo, Democratic Republic of the   1.871078e+08  7.937514e+07\n",
      "113                             Mexico   1.839863e+08  1.217368e+08\n"
     ]
    }
   ],
   "source": [
    "facts[\"estimated_pop\"] = facts.apply(estimpop,axis=1)\n",
    "facts = facts.sort_values(\"estimated_pop\",ascending=False)\n",
    "print(facts[[\"name\",\"estimated_pop\",\"population\"]][0:10])"
   ]
  },
  {
   "cell_type": "markdown",
   "metadata": {},
   "source": [
    "### Computing Total Area"
   ]
  },
  {
   "cell_type": "code",
   "execution_count": 10,
   "metadata": {},
   "outputs": [
    {
     "name": "stdout",
     "output_type": "stream",
     "text": [
      "[(128584834, 4633425, 27)]\n"
     ]
    }
   ],
   "source": [
    "conn = sqlite3.connect('factbook.db')\n",
    "\n",
    "c = conn.cursor()\n",
    "c.execute('SELECT sum(area_land),sum(area_water),sum(area_land)/sum(area_water) as rt FROM facts;')\n",
    "\n",
    "print(c.fetchall())"
   ]
  },
  {
   "cell_type": "code",
   "execution_count": null,
   "metadata": {},
   "outputs": [],
   "source": []
  }
 ],
 "metadata": {
  "kernelspec": {
   "display_name": "Python 3",
   "language": "python",
   "name": "python3"
  },
  "language_info": {
   "codemirror_mode": {
    "name": "ipython",
    "version": 3
   },
   "file_extension": ".py",
   "mimetype": "text/x-python",
   "name": "python",
   "nbconvert_exporter": "python",
   "pygments_lexer": "ipython3",
   "version": "3.6.5"
  }
 },
 "nbformat": 4,
 "nbformat_minor": 2
}
